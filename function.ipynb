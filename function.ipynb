{
  "nbformat": 4,
  "nbformat_minor": 0,
  "metadata": {
    "colab": {
      "provenance": []
    },
    "kernelspec": {
      "name": "python3",
      "display_name": "Python 3"
    },
    "language_info": {
      "name": "python"
    }
  },
  "cells": [
    {
      "cell_type": "markdown",
      "source": [
        "# Function\n",
        "\n"
      ],
      "metadata": {
        "id": "tsUttxI79gOD"
      }
    },
    {
      "cell_type": "markdown",
      "source": [
        "1. what is the different between a function and a method in python?\n",
        "- a function is independent and can be called from anywher while a methode is tied to a class or obctet and must be called on that object or whithin that class.\n",
        "2. second question\n",
        "- this is second question answer"
      ],
      "metadata": {
        "id": "wj__7ce1-t3t"
      }
    },
    {
      "cell_type": "code",
      "execution_count": 1,
      "metadata": {
        "colab": {
          "base_uri": "https://localhost:8080/",
          "height": 36
        },
        "id": "OMX6nI_o86Xe",
        "outputId": "f61364d8-680c-4176-e767-3c8282305829"
      },
      "outputs": [
        {
          "output_type": "execute_result",
          "data": {
            "text/plain": [
              "'\\nthis is answer\\n'"
            ],
            "application/vnd.google.colaboratory.intrinsic+json": {
              "type": "string"
            }
          },
          "metadata": {},
          "execution_count": 1
        }
      ],
      "source": [
        "# questhion\n",
        "'''\n",
        "this is answer\n",
        "'''\n",
        "\"\"\"\n",
        "this is answer\n",
        "\"\"\""
      ]
    },
    {
      "cell_type": "code",
      "source": [],
      "metadata": {
        "id": "ho1qW0AYKoRj"
      },
      "execution_count": null,
      "outputs": []
    }
  ]
}